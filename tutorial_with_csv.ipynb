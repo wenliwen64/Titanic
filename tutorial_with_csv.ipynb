{
 "cells": [
  {
   "cell_type": "code",
   "execution_count": 1,
   "metadata": {
    "collapsed": true
   },
   "outputs": [],
   "source": [
    "import csv as csv"
   ]
  },
  {
   "cell_type": "code",
   "execution_count": 2,
   "metadata": {
    "collapsed": true
   },
   "outputs": [],
   "source": [
    "import numpy as np"
   ]
  },
  {
   "cell_type": "code",
   "execution_count": 5,
   "metadata": {
    "collapsed": true
   },
   "outputs": [],
   "source": [
    "csv_file_object = csv.reader(open('./train.csv', 'rb'))"
   ]
  },
  {
   "cell_type": "code",
   "execution_count": 6,
   "metadata": {
    "collapsed": true
   },
   "outputs": [],
   "source": [
    "header = csv_file_object.next()"
   ]
  },
  {
   "cell_type": "code",
   "execution_count": 7,
   "metadata": {
    "collapsed": true
   },
   "outputs": [],
   "source": [
    "data = []"
   ]
  },
  {
   "cell_type": "code",
   "execution_count": 18,
   "metadata": {
    "collapsed": true
   },
   "outputs": [],
   "source": [
    "for row in csv_file_object:\n",
    "    data.append(row)"
   ]
  },
  {
   "cell_type": "code",
   "execution_count": 14,
   "metadata": {
    "collapsed": false
   },
   "outputs": [
    {
     "name": "stdout",
     "output_type": "stream",
     "text": [
      "[['1' '0' '3' ..., '7.25' '' 'S']\n",
      " ['2' '1' '1' ..., '71.2833' 'C85' 'C']\n",
      " ['3' '1' '3' ..., '7.925' '' 'S']\n",
      " ..., \n",
      " ['889' '0' '3' ..., '23.45' '' 'S']\n",
      " ['890' '1' '1' ..., '30' 'C148' 'C']\n",
      " ['891' '0' '3' ..., '7.75' '' 'Q']]\n"
     ]
    }
   ],
   "source": [
    "print data"
   ]
  },
  {
   "cell_type": "code",
   "execution_count": 15,
   "metadata": {
    "collapsed": false
   },
   "outputs": [
    {
     "data": {
      "text/plain": [
       "array(['891', '0', '3', 'Dooley, Mr. Patrick', 'male', '32', '0', '0',\n",
       "       '370376', '7.75', '', 'Q'], \n",
       "      dtype='|S82')"
      ]
     },
     "execution_count": 15,
     "metadata": {},
     "output_type": "execute_result"
    }
   ],
   "source": [
    "data[-1]"
   ]
  },
  {
   "cell_type": "code",
   "execution_count": 16,
   "metadata": {
    "collapsed": false
   },
   "outputs": [
    {
     "data": {
      "text/plain": [
       "'Dooley, Mr. Patrick'"
      ]
     },
     "execution_count": 16,
     "metadata": {},
     "output_type": "execute_result"
    }
   ],
   "source": [
    "data[-1][3]"
   ]
  },
  {
   "cell_type": "code",
   "execution_count": 19,
   "metadata": {
    "collapsed": false
   },
   "outputs": [
    {
     "name": "stdout",
     "output_type": "stream",
     "text": [
      "[['1' '0' '3' ..., '7.25' '' 'S']\n",
      " ['2' '1' '1' ..., '71.2833' 'C85' 'C']\n",
      " ['3' '1' '3' ..., '7.925' '' 'S']\n",
      " ..., \n",
      " ['889' '0' '3' ..., '23.45' '' 'S']\n",
      " ['890' '1' '1' ..., '30' 'C148' 'C']\n",
      " ['891' '0' '3' ..., '7.75' '' 'Q']]\n"
     ]
    }
   ],
   "source": [
    "print data"
   ]
  },
  {
   "cell_type": "code",
   "execution_count": 20,
   "metadata": {
    "collapsed": false
   },
   "outputs": [
    {
     "data": {
      "text/plain": [
       "array(['890', '1', '1', 'Behr, Mr. Karl Howell', 'male', '26', '0', '0',\n",
       "       '111369', '30', 'C148', 'C'], \n",
       "      dtype='|S82')"
      ]
     },
     "execution_count": 20,
     "metadata": {},
     "output_type": "execute_result"
    }
   ],
   "source": [
    "data[-2]"
   ]
  },
  {
   "cell_type": "code",
   "execution_count": 21,
   "metadata": {
    "collapsed": false,
    "scrolled": false
   },
   "outputs": [
    {
     "data": {
      "text/plain": [
       "array(['male', 'female', 'female', 'female', 'male', 'male', 'male',\n",
       "       'male', 'female', 'female', 'female', 'female', 'male', 'male',\n",
       "       'female', 'female', 'male', 'male', 'female', 'female', 'male',\n",
       "       'male', 'female', 'male', 'female', 'female', 'male', 'male',\n",
       "       'female', 'male', 'male', 'female', 'female', 'male', 'male',\n",
       "       'male', 'male', 'male', 'female', 'female', 'female', 'female',\n",
       "       'male', 'female', 'female', 'male', 'male', 'female', 'male',\n",
       "       'female', 'male', 'male', 'female', 'female', 'male', 'male',\n",
       "       'female', 'male', 'female', 'male', 'male', 'female', 'male',\n",
       "       'male', 'male', 'male', 'female', 'male', 'female', 'male', 'male',\n",
       "       'female', 'male', 'male', 'male', 'male', 'male', 'male', 'male',\n",
       "       'female', 'male', 'male', 'female', 'male', 'female', 'female',\n",
       "       'male', 'male', 'female', 'male', 'male', 'male', 'male', 'male',\n",
       "       'male', 'male', 'male', 'male', 'female', 'male', 'female', 'male',\n",
       "       'male', 'male', 'male', 'male', 'female', 'male', 'male', 'female',\n",
       "       'male', 'female', 'male', 'female', 'female', 'male', 'male',\n",
       "       'male', 'male', 'female', 'male', 'male', 'male', 'female', 'male',\n",
       "       'male', 'male', 'male', 'female', 'male', 'male', 'male', 'female',\n",
       "       'female', 'male', 'male', 'female', 'male', 'male', 'male',\n",
       "       'female', 'female', 'female', 'male', 'male', 'male', 'male',\n",
       "       'female', 'male', 'male', 'male', 'female', 'male', 'male', 'male',\n",
       "       'male', 'female', 'male', 'male', 'male', 'male', 'female', 'male',\n",
       "       'male', 'male', 'male', 'female', 'female', 'male', 'male', 'male',\n",
       "       'male', 'female', 'male', 'male', 'male', 'male', 'female', 'male',\n",
       "       'male', 'female', 'male', 'male', 'male', 'female', 'male',\n",
       "       'female', 'male', 'male', 'male', 'female', 'male', 'female',\n",
       "       'male', 'female', 'female', 'male', 'male', 'female', 'female',\n",
       "       'male', 'male', 'male', 'male', 'male', 'female', 'male', 'male',\n",
       "       'female', 'male', 'male', 'female', 'male', 'male', 'male',\n",
       "       'female', 'female', 'male', 'female', 'male', 'male', 'male',\n",
       "       'male', 'male', 'male', 'male', 'male', 'male', 'male', 'female',\n",
       "       'female', 'male', 'male', 'female', 'male', 'female', 'male',\n",
       "       'female', 'male', 'male', 'female', 'female', 'male', 'male',\n",
       "       'male', 'male', 'female', 'female', 'male', 'male', 'male',\n",
       "       'female', 'male', 'male', 'female', 'female', 'female', 'female',\n",
       "       'female', 'female', 'male', 'male', 'male', 'male', 'female',\n",
       "       'male', 'male', 'male', 'female', 'female', 'male', 'male',\n",
       "       'female', 'male', 'female', 'female', 'female', 'male', 'male',\n",
       "       'female', 'male', 'male', 'male', 'male', 'male', 'male', 'male',\n",
       "       'male', 'male', 'female', 'female', 'female', 'male', 'female',\n",
       "       'male', 'male', 'male', 'female', 'male', 'female', 'female',\n",
       "       'male', 'male', 'female', 'male', 'male', 'female', 'female',\n",
       "       'male', 'female', 'female', 'female', 'female', 'male', 'male',\n",
       "       'female', 'female', 'male', 'female', 'female', 'male', 'male',\n",
       "       'female', 'female', 'male', 'female', 'male', 'female', 'female',\n",
       "       'female', 'female', 'male', 'male', 'male', 'female', 'male',\n",
       "       'male', 'female', 'male', 'male', 'male', 'female', 'male', 'male',\n",
       "       'male', 'female', 'female', 'female', 'male', 'male', 'male',\n",
       "       'male', 'male', 'male', 'male', 'male', 'female', 'female',\n",
       "       'female', 'female', 'male', 'male', 'female', 'male', 'male',\n",
       "       'male', 'female', 'female', 'female', 'female', 'male', 'male',\n",
       "       'male', 'male', 'female', 'female', 'female', 'male', 'male',\n",
       "       'male', 'female', 'female', 'male', 'female', 'male', 'male',\n",
       "       'male', 'female', 'male', 'female', 'male', 'male', 'male',\n",
       "       'female', 'female', 'male', 'female', 'male', 'male', 'female',\n",
       "       'male', 'male', 'female', 'male', 'female', 'male', 'male', 'male',\n",
       "       'male', 'female', 'male', 'male', 'female', 'male', 'male',\n",
       "       'female', 'female', 'female', 'male', 'female', 'male', 'male',\n",
       "       'male', 'female', 'male', 'male', 'female', 'female', 'male',\n",
       "       'male', 'male', 'female', 'female', 'male', 'male', 'female',\n",
       "       'female', 'female', 'male', 'male', 'female', 'male', 'male',\n",
       "       'female', 'male', 'male', 'female', 'male', 'female', 'male',\n",
       "       'male', 'male', 'male', 'male', 'male', 'male', 'male', 'female',\n",
       "       'female', 'male', 'male', 'male', 'male', 'male', 'male', 'male',\n",
       "       'male', 'male', 'male', 'female', 'male', 'male', 'female',\n",
       "       'female', 'female', 'male', 'male', 'male', 'male', 'female',\n",
       "       'male', 'male', 'male', 'female', 'male', 'female', 'female',\n",
       "       'male', 'male', 'male', 'male', 'male', 'male', 'male', 'male',\n",
       "       'male', 'female', 'male', 'female', 'male', 'male', 'female',\n",
       "       'female', 'female', 'female', 'male', 'female', 'male', 'male',\n",
       "       'male', 'male', 'male', 'male', 'female', 'male', 'male', 'female',\n",
       "       'male', 'female', 'male', 'female', 'male', 'male', 'female',\n",
       "       'male', 'male', 'female', 'male', 'male', 'male', 'female', 'male',\n",
       "       'male', 'female', 'female', 'female', 'male', 'female', 'male',\n",
       "       'female', 'female', 'female', 'female', 'male', 'male', 'male',\n",
       "       'female', 'male', 'male', 'male', 'male', 'male', 'male', 'male',\n",
       "       'female', 'male', 'female', 'male', 'female', 'female', 'male',\n",
       "       'male', 'male', 'male', 'female', 'male', 'male', 'female', 'male',\n",
       "       'male', 'male', 'female', 'male', 'female', 'male', 'male',\n",
       "       'female', 'female', 'female', 'male', 'female', 'female', 'male',\n",
       "       'male', 'male', 'female', 'male', 'male', 'male', 'male', 'male',\n",
       "       'female', 'male', 'female', 'male', 'male', 'female', 'male',\n",
       "       'male', 'male', 'female', 'male', 'male', 'male', 'male', 'male',\n",
       "       'male', 'male', 'female', 'female', 'female', 'male', 'female',\n",
       "       'male', 'male', 'female', 'male', 'female', 'female', 'male',\n",
       "       'male', 'male', 'male', 'male', 'male', 'male', 'male', 'female',\n",
       "       'male', 'male', 'male', 'male', 'male', 'male', 'female', 'female',\n",
       "       'male', 'male', 'female', 'male', 'male', 'female', 'female',\n",
       "       'male', 'female', 'male', 'male', 'male', 'male', 'female', 'male',\n",
       "       'female', 'male', 'female', 'female', 'male', 'male', 'female',\n",
       "       'male', 'male', 'male', 'male', 'male', 'male', 'male', 'male',\n",
       "       'male', 'male', 'male', 'female', 'female', 'male', 'male', 'male',\n",
       "       'male', 'male', 'male', 'female', 'female', 'male', 'female',\n",
       "       'male', 'male', 'male', 'male', 'male', 'male', 'male', 'male',\n",
       "       'female', 'male', 'female', 'male', 'male', 'male', 'male', 'male',\n",
       "       'female', 'male', 'male', 'female', 'male', 'female', 'male',\n",
       "       'male', 'male', 'female', 'male', 'female', 'male', 'female',\n",
       "       'male', 'male', 'male', 'male', 'male', 'female', 'female', 'male',\n",
       "       'male', 'female', 'male', 'male', 'male', 'male', 'male', 'female',\n",
       "       'female', 'male', 'female', 'female', 'male', 'male', 'male',\n",
       "       'male', 'male', 'female', 'male', 'male', 'male', 'male', 'male',\n",
       "       'female', 'male', 'male', 'male', 'male', 'female', 'male', 'male',\n",
       "       'female', 'male', 'male', 'male', 'female', 'male', 'male', 'male',\n",
       "       'male', 'female', 'male', 'male', 'male', 'female', 'male',\n",
       "       'female', 'male', 'female', 'male', 'male', 'male', 'male',\n",
       "       'female', 'male', 'female', 'male', 'male', 'female', 'male',\n",
       "       'female', 'female', 'female', 'male', 'male', 'male', 'male',\n",
       "       'female', 'male', 'male', 'male', 'male', 'male', 'female', 'male',\n",
       "       'male', 'male', 'female', 'female', 'male', 'female', 'male',\n",
       "       'female', 'male', 'male', 'male', 'male', 'male', 'female', 'male',\n",
       "       'female', 'male', 'male', 'male', 'female', 'male', 'male',\n",
       "       'female', 'male', 'male', 'male', 'female', 'male', 'male',\n",
       "       'female', 'male', 'male', 'male', 'male', 'male', 'female',\n",
       "       'female', 'male', 'male', 'male', 'male', 'female', 'male', 'male',\n",
       "       'male', 'male', 'male', 'male', 'female', 'male', 'male', 'male',\n",
       "       'male', 'male', 'male', 'female', 'male', 'male', 'female',\n",
       "       'female', 'female', 'female', 'female', 'male', 'female', 'male',\n",
       "       'male', 'male', 'female', 'female', 'male', 'female', 'female',\n",
       "       'male', 'male', 'male', 'male', 'female', 'male', 'male', 'female',\n",
       "       'female', 'male', 'male', 'male', 'female', 'female', 'male',\n",
       "       'female', 'male', 'male', 'female', 'male', 'female', 'female',\n",
       "       'male', 'male'], \n",
       "      dtype='|S82')"
      ]
     },
     "execution_count": 21,
     "metadata": {},
     "output_type": "execute_result"
    }
   ],
   "source": [
    "data[0::,4]"
   ]
  },
  {
   "cell_type": "code",
   "execution_count": 22,
   "metadata": {
    "collapsed": true
   },
   "outputs": [],
   "source": [
    "number_passengers = np.size(data[0::,1].astype(np.float))"
   ]
  },
  {
   "cell_type": "code",
   "execution_count": 23,
   "metadata": {
    "collapsed": true
   },
   "outputs": [],
   "source": [
    "number_survived = np.sum(data[0::,1].astype(np.float))"
   ]
  },
  {
   "cell_type": "code",
   "execution_count": 24,
   "metadata": {
    "collapsed": true
   },
   "outputs": [],
   "source": [
    "proportion_survivors = number_survived/number_passengers"
   ]
  },
  {
   "cell_type": "code",
   "execution_count": 25,
   "metadata": {
    "collapsed": false
   },
   "outputs": [
    {
     "name": "stdout",
     "output_type": "stream",
     "text": [
      "0.383838383838\n"
     ]
    }
   ],
   "source": [
    "print proportion_survivors"
   ]
  },
  {
   "cell_type": "code",
   "execution_count": 26,
   "metadata": {
    "collapsed": true
   },
   "outputs": [],
   "source": [
    "woman_only_stats = data[0::,4] == 'female'"
   ]
  },
  {
   "cell_type": "code",
   "execution_count": 27,
   "metadata": {
    "collapsed": false
   },
   "outputs": [
    {
     "data": {
      "text/plain": [
       "array([False,  True,  True,  True, False, False, False, False,  True,\n",
       "        True,  True,  True, False, False,  True,  True, False, False,\n",
       "        True,  True, False, False,  True, False,  True,  True, False,\n",
       "       False,  True, False, False,  True,  True, False, False, False,\n",
       "       False, False,  True,  True,  True,  True, False,  True,  True,\n",
       "       False, False,  True, False,  True, False, False,  True,  True,\n",
       "       False, False,  True, False,  True, False, False,  True, False,\n",
       "       False, False, False,  True, False,  True, False, False,  True,\n",
       "       False, False, False, False, False, False, False,  True, False,\n",
       "       False,  True, False,  True,  True, False, False,  True, False,\n",
       "       False, False, False, False, False, False, False, False,  True,\n",
       "       False,  True, False, False, False, False, False,  True, False,\n",
       "       False,  True, False,  True, False,  True,  True, False, False,\n",
       "       False, False,  True, False, False, False,  True, False, False,\n",
       "       False, False,  True, False, False, False,  True,  True, False,\n",
       "       False,  True, False, False, False,  True,  True,  True, False,\n",
       "       False, False, False,  True, False, False, False,  True, False,\n",
       "       False, False, False,  True, False, False, False, False,  True,\n",
       "       False, False, False, False,  True,  True, False, False, False,\n",
       "       False,  True, False, False, False, False,  True, False, False,\n",
       "        True, False, False, False,  True, False,  True, False, False,\n",
       "       False,  True, False,  True, False,  True,  True, False, False,\n",
       "        True,  True, False, False, False, False, False,  True, False,\n",
       "       False,  True, False, False,  True, False, False, False,  True,\n",
       "        True, False,  True, False, False, False, False, False, False,\n",
       "       False, False, False, False,  True,  True, False, False,  True,\n",
       "       False,  True, False,  True, False, False,  True,  True, False,\n",
       "       False, False, False,  True,  True, False, False, False,  True,\n",
       "       False, False,  True,  True,  True,  True,  True,  True, False,\n",
       "       False, False, False,  True, False, False, False,  True,  True,\n",
       "       False, False,  True, False,  True,  True,  True, False, False,\n",
       "        True, False, False, False, False, False, False, False, False,\n",
       "       False,  True,  True,  True, False,  True, False, False, False,\n",
       "        True, False,  True,  True, False, False,  True, False, False,\n",
       "        True,  True, False,  True,  True,  True,  True, False, False,\n",
       "        True,  True, False,  True,  True, False, False,  True,  True,\n",
       "       False,  True, False,  True,  True,  True,  True, False, False,\n",
       "       False,  True, False, False,  True, False, False, False,  True,\n",
       "       False, False, False,  True,  True,  True, False, False, False,\n",
       "       False, False, False, False, False,  True,  True,  True,  True,\n",
       "       False, False,  True, False, False, False,  True,  True,  True,\n",
       "        True, False, False, False, False,  True,  True,  True, False,\n",
       "       False, False,  True,  True, False,  True, False, False, False,\n",
       "        True, False,  True, False, False, False,  True,  True, False,\n",
       "        True, False, False,  True, False, False,  True, False,  True,\n",
       "       False, False, False, False,  True, False, False,  True, False,\n",
       "       False,  True,  True,  True, False,  True, False, False, False,\n",
       "        True, False, False,  True,  True, False, False, False,  True,\n",
       "        True, False, False,  True,  True,  True, False, False,  True,\n",
       "       False, False,  True, False, False,  True, False,  True, False,\n",
       "       False, False, False, False, False, False, False,  True,  True,\n",
       "       False, False, False, False, False, False, False, False, False,\n",
       "       False,  True, False, False,  True,  True,  True, False, False,\n",
       "       False, False,  True, False, False, False,  True, False,  True,\n",
       "        True, False, False, False, False, False, False, False, False,\n",
       "       False,  True, False,  True, False, False,  True,  True,  True,\n",
       "        True, False,  True, False, False, False, False, False, False,\n",
       "        True, False, False,  True, False,  True, False,  True, False,\n",
       "       False,  True, False, False,  True, False, False, False,  True,\n",
       "       False, False,  True,  True,  True, False,  True, False,  True,\n",
       "        True,  True,  True, False, False, False,  True, False, False,\n",
       "       False, False, False, False, False,  True, False,  True, False,\n",
       "        True,  True, False, False, False, False,  True, False, False,\n",
       "        True, False, False, False,  True, False,  True, False, False,\n",
       "        True,  True,  True, False,  True,  True, False, False, False,\n",
       "        True, False, False, False, False, False,  True, False,  True,\n",
       "       False, False,  True, False, False, False,  True, False, False,\n",
       "       False, False, False, False, False,  True,  True,  True, False,\n",
       "        True, False, False,  True, False,  True,  True, False, False,\n",
       "       False, False, False, False, False, False,  True, False, False,\n",
       "       False, False, False, False,  True,  True, False, False,  True,\n",
       "       False, False,  True,  True, False,  True, False, False, False,\n",
       "       False,  True, False,  True, False,  True,  True, False, False,\n",
       "        True, False, False, False, False, False, False, False, False,\n",
       "       False, False, False,  True,  True, False, False, False, False,\n",
       "       False, False,  True,  True, False,  True, False, False, False,\n",
       "       False, False, False, False, False,  True, False,  True, False,\n",
       "       False, False, False, False,  True, False, False,  True, False,\n",
       "        True, False, False, False,  True, False,  True, False,  True,\n",
       "       False, False, False, False, False,  True,  True, False, False,\n",
       "        True, False, False, False, False, False,  True,  True, False,\n",
       "        True,  True, False, False, False, False, False,  True, False,\n",
       "       False, False, False, False,  True, False, False, False, False,\n",
       "        True, False, False,  True, False, False, False,  True, False,\n",
       "       False, False, False,  True, False, False, False,  True, False,\n",
       "        True, False,  True, False, False, False, False,  True, False,\n",
       "        True, False, False,  True, False,  True,  True,  True, False,\n",
       "       False, False, False,  True, False, False, False, False, False,\n",
       "        True, False, False, False,  True,  True, False,  True, False,\n",
       "        True, False, False, False, False, False,  True, False,  True,\n",
       "       False, False, False,  True, False, False,  True, False, False,\n",
       "       False,  True, False, False,  True, False, False, False, False,\n",
       "       False,  True,  True, False, False, False, False,  True, False,\n",
       "       False, False, False, False, False,  True, False, False, False,\n",
       "       False, False, False,  True, False, False,  True,  True,  True,\n",
       "        True,  True, False,  True, False, False, False,  True,  True,\n",
       "       False,  True,  True, False, False, False, False,  True, False,\n",
       "       False,  True,  True, False, False, False,  True,  True, False,\n",
       "        True, False, False,  True, False,  True,  True, False, False], dtype=bool)"
      ]
     },
     "execution_count": 27,
     "metadata": {},
     "output_type": "execute_result"
    }
   ],
   "source": [
    "woman_only_stats"
   ]
  },
  {
   "cell_type": "code",
   "execution_count": 28,
   "metadata": {
    "collapsed": true
   },
   "outputs": [],
   "source": [
    "woman_onboard = data[woman_only_stats,1].astype(np.float)"
   ]
  },
  {
   "cell_type": "code",
   "execution_count": 29,
   "metadata": {
    "collapsed": false
   },
   "outputs": [
    {
     "name": "stdout",
     "output_type": "stream",
     "text": [
      "[ 1.  1.  1.  1.  1.  1.  1.  0.  1.  0.  1.  1.  0.  1.  1.  1.  1.  0.\n",
      "  1.  0.  0.  1.  1.  1.  0.  1.  1.  1.  1.  1.  1.  1.  0.  1.  1.  1.\n",
      "  1.  1.  1.  0.  1.  1.  0.  0.  0.  0.  1.  1.  0.  1.  1.  0.  1.  1.\n",
      "  0.  1.  1.  1.  1.  0.  1.  0.  0.  1.  1.  1.  1.  1.  1.  1.  0.  0.\n",
      "  1.  1.  1.  1.  1.  0.  1.  1.  0.  1.  0.  1.  0.  1.  0.  0.  1.  1.\n",
      "  1.  1.  1.  0.  1.  1.  1.  1.  1.  0.  1.  1.  1.  1.  0.  0.  1.  1.\n",
      "  1.  1.  1.  1.  1.  1.  0.  1.  1.  1.  1.  1.  1.  1.  1.  1.  1.  1.\n",
      "  1.  1.  1.  1.  1.  1.  1.  0.  1.  1.  0.  1.  1.  1.  1.  0.  1.  1.\n",
      "  1.  1.  1.  1.  1.  1.  1.  0.  1.  0.  0.  0.  1.  0.  1.  1.  0.  0.\n",
      "  1.  1.  1.  1.  1.  0.  1.  1.  1.  1.  1.  1.  1.  1.  1.  1.  0.  1.\n",
      "  1.  0.  1.  1.  0.  0.  0.  0.  1.  1.  1.  1.  1.  1.  1.  1.  1.  1.\n",
      "  0.  1.  1.  1.  1.  0.  0.  1.  1.  1.  1.  1.  0.  0.  1.  1.  1.  1.\n",
      "  0.  1.  1.  1.  1.  0.  1.  1.  1.  1.  0.  1.  1.  0.  1.  1.  0.  1.\n",
      "  0.  1.  0.  1.  1.  1.  1.  0.  0.  1.  1.  1.  0.  0.  1.  1.  1.  1.\n",
      "  0.  1.  1.  1.  1.  1.  1.  1.  1.  0.  1.  0.  1.  1.  1.  1.  1.  1.\n",
      "  1.  0.  0.  1.  1.  1.  1.  1.  1.  0.  1.  1.  0.  1.  0.  1.  0.  0.\n",
      "  1.  1.  1.  1.  1.  1.  1.  0.  1.  0.  1.  1.  1.  1.  0.  1.  1.  1.\n",
      "  1.  1.  1.  1.  0.  0.  1.  0.]\n"
     ]
    }
   ],
   "source": [
    "print woman_onboard"
   ]
  },
  {
   "cell_type": "code",
   "execution_count": 31,
   "metadata": {
    "collapsed": true
   },
   "outputs": [],
   "source": [
    "men_only = data[0::, 4] == 'male'"
   ]
  },
  {
   "cell_type": "markdown",
   "metadata": {},
   "source": []
  },
  {
   "cell_type": "code",
   "execution_count": 32,
   "metadata": {
    "collapsed": true
   },
   "outputs": [],
   "source": [
    "men_onboard = data[men_only,1].astype(np.float)"
   ]
  },
  {
   "cell_type": "code",
   "execution_count": 33,
   "metadata": {
    "collapsed": false
   },
   "outputs": [
    {
     "name": "stdout",
     "output_type": "stream",
     "text": [
      "[ 0.  0.  0.  0.  0.  0.  0.  0.  1.  0.  1.  1.  0.  0.  0.  0.  0.  0.\n",
      "  0.  1.  0.  0.  0.  0.  0.  0.  0.  0.  1.  0.  0.  0.  0.  0.  0.  1.\n",
      "  0.  0.  0.  0.  0.  1.  0.  0.  0.  1.  0.  1.  0.  0.  0.  0.  0.  0.\n",
      "  0.  0.  0.  0.  0.  1.  0.  0.  0.  0.  0.  0.  1.  0.  0.  0.  0.  0.\n",
      "  0.  0.  0.  0.  0.  0.  1.  0.  1.  0.  0.  0.  0.  0.  0.  0.  0.  0.\n",
      "  0.  0.  1.  0.  0.  0.  0.  0.  0.  0.  0.  0.  0.  0.  0.  0.  0.  1.\n",
      "  0.  0.  0.  0.  0.  0.  0.  0.  0.  0.  0.  0.  1.  0.  1.  0.  0.  0.\n",
      "  1.  0.  0.  0.  0.  0.  0.  1.  0.  1.  1.  0.  0.  0.  0.  0.  0.  1.\n",
      "  0.  0.  0.  1.  0.  1.  0.  0.  0.  0.  0.  0.  0.  0.  0.  0.  0.  0.\n",
      "  1.  0.  0.  0.  0.  0.  1.  0.  0.  0.  0.  1.  0.  1.  0.  0.  0.  0.\n",
      "  0.  0.  1.  0.  0.  1.  0.  1.  0.  0.  0.  0.  1.  1.  0.  0.  1.  0.\n",
      "  0.  0.  0.  0.  0.  0.  0.  0.  0.  0.  0.  0.  1.  0.  1.  0.  0.  0.\n",
      "  1.  0.  0.  0.  0.  0.  0.  0.  0.  0.  0.  0.  0.  1.  0.  0.  0.  0.\n",
      "  0.  0.  0.  0.  0.  0.  0.  1.  1.  0.  0.  0.  0.  1.  0.  0.  0.  0.\n",
      "  1.  0.  0.  0.  0.  1.  0.  0.  0.  0.  0.  0.  0.  1.  1.  0.  0.  0.\n",
      "  0.  0.  0.  1.  1.  1.  1.  0.  0.  0.  1.  0.  1.  0.  0.  1.  0.  0.\n",
      "  0.  0.  0.  0.  0.  0.  0.  0.  0.  0.  0.  0.  0.  0.  0.  1.  0.  0.\n",
      "  1.  0.  0.  0.  0.  0.  0.  0.  0.  0.  0.  1.  0.  1.  1.  0.  1.  0.\n",
      "  0.  0.  0.  0.  0.  0.  0.  0.  0.  0.  0.  0.  0.  0.  1.  0.  0.  1.\n",
      "  0.  1.  1.  0.  0.  1.  0.  0.  0.  0.  0.  0.  0.  0.  0.  1.  1.  1.\n",
      "  0.  0.  1.  0.  0.  0.  0.  1.  0.  0.  0.  0.  0.  0.  0.  0.  1.  0.\n",
      "  0.  0.  1.  0.  0.  1.  0.  0.  0.  0.  0.  0.  1.  1.  0.  0.  0.  0.\n",
      "  0.  0.  1.  0.  1.  0.  0.  0.  0.  0.  1.  1.  0.  1.  0.  0.  0.  0.\n",
      "  0.  0.  0.  1.  0.  0.  0.  1.  0.  0.  0.  0.  0.  0.  1.  0.  0.  0.\n",
      "  1.  1.  0.  0.  0.  0.  0.  0.  0.  1.  1.  0.  0.  0.  0.  0.  0.  1.\n",
      "  0.  0.  0.  1.  1.  0.  1.  0.  0.  0.  0.  0.  0.  0.  0.  1.  0.  0.\n",
      "  0.  0.  0.  0.  0.  1.  0.  0.  1.  0.  0.  1.  0.  0.  0.  0.  1.  0.\n",
      "  0.  1.  0.  0.  0.  0.  0.  1.  0.  0.  0.  0.  0.  0.  0.  0.  0.  0.\n",
      "  0.  0.  0.  0.  0.  1.  0.  0.  0.  0.  0.  0.  0.  0.  1.  1.  1.  0.\n",
      "  0.  0.  0.  0.  0.  0.  0.  0.  0.  0.  1.  0.  0.  0.  0.  1.  1.  1.\n",
      "  0.  0.  0.  0.  0.  1.  1.  0.  0.  0.  0.  0.  0.  0.  0.  0.  0.  1.\n",
      "  0.  0.  0.  0.  0.  0.  1.  0.  0.  0.  0.  0.  0.  0.  0.  0.  0.  1.\n",
      "  0.]\n"
     ]
    }
   ],
   "source": [
    "print men_onboard"
   ]
  },
  {
   "cell_type": "code",
   "execution_count": 36,
   "metadata": {
    "collapsed": false
   },
   "outputs": [],
   "source": [
    "proportion_women_survived = np.sum(woman_onboard.astype(np.float))/np.size(woman_onboard.astype(np.float))"
   ]
  },
  {
   "cell_type": "code",
   "execution_count": 37,
   "metadata": {
    "collapsed": false
   },
   "outputs": [
    {
     "name": "stdout",
     "output_type": "stream",
     "text": [
      "0.742038216561\n"
     ]
    }
   ],
   "source": [
    "print proportion_women_survived"
   ]
  },
  {
   "cell_type": "code",
   "execution_count": 38,
   "metadata": {
    "collapsed": true
   },
   "outputs": [],
   "source": [
    "proportion_men_survived = np.sum(men_onboard.astype(np.float))/np.size(men_onboard.astype(np.float))"
   ]
  },
  {
   "cell_type": "code",
   "execution_count": 39,
   "metadata": {
    "collapsed": false
   },
   "outputs": [
    {
     "name": "stdout",
     "output_type": "stream",
     "text": [
      "0.188908145581\n"
     ]
    }
   ],
   "source": [
    "print proportion_men_survived"
   ]
  },
  {
   "cell_type": "code",
   "execution_count": 47,
   "metadata": {
    "collapsed": true
   },
   "outputs": [],
   "source": [
    "test_file = open('./test.csv', 'rb')"
   ]
  },
  {
   "cell_type": "code",
   "execution_count": 48,
   "metadata": {
    "collapsed": true
   },
   "outputs": [],
   "source": [
    "test_file_object = csv.reader(test_file)"
   ]
  },
  {
   "cell_type": "code",
   "execution_count": 49,
   "metadata": {
    "collapsed": false
   },
   "outputs": [],
   "source": [
    "header = test_file_object.next()"
   ]
  },
  {
   "cell_type": "code",
   "execution_count": 52,
   "metadata": {
    "collapsed": false
   },
   "outputs": [],
   "source": [
    "prediction_file = open('./genderpredictmodel.csv', 'wb')"
   ]
  },
  {
   "cell_type": "code",
   "execution_count": 53,
   "metadata": {
    "collapsed": true
   },
   "outputs": [],
   "source": [
    "prediction_file_object = csv.writer(prediction_file)"
   ]
  },
  {
   "cell_type": "code",
   "execution_count": 54,
   "metadata": {
    "collapsed": true
   },
   "outputs": [],
   "source": [
    "prediction_file_object.writerow([\"PassengerId\", \"Survived\"])"
   ]
  },
  {
   "cell_type": "code",
   "execution_count": 55,
   "metadata": {
    "collapsed": true
   },
   "outputs": [],
   "source": [
    "for row in test_file_object:\n",
    "    if row[3] == 'female':\n",
    "        prediction_file_object.writerow([row[0], '1'])\n",
    "    else:\n",
    "        prediction_file_object.writerow([row[0], '0'])\n",
    "test_file.close()\n",
    "prediction_file.close()"
   ]
  },
  {
   "cell_type": "code",
   "execution_count": 61,
   "metadata": {
    "collapsed": false
   },
   "outputs": [
    {
     "data": {
      "text/plain": [
       "array(['7.25', '71.2833', '7.925', '53.1', '8.05', '8.4583', '51.8625',\n",
       "       '21.075', '11.1333', '30.0708', '16.7', '26.55', '8.05', '31.275',\n",
       "       '7.8542', '16', '29.125', '13', '18', '7.225', '26', '13', '8.0292',\n",
       "       '35.5', '21.075', '31.3875', '7.225', '263', '7.8792', '7.8958',\n",
       "       '27.7208', '146.5208', '7.75', '10.5', '82.1708', '52', '7.2292',\n",
       "       '8.05', '18', '11.2417', '9.475', '21', '7.8958', '41.5792',\n",
       "       '7.8792', '8.05', '15.5', '7.75', '21.6792', '17.8', '39.6875',\n",
       "       '7.8', '76.7292', '26', '61.9792', '35.5', '10.5', '7.2292',\n",
       "       '27.75', '46.9', '7.2292', '80', '83.475', '27.9', '27.7208',\n",
       "       '15.2458', '10.5', '8.1583', '7.925', '8.6625', '10.5', '46.9',\n",
       "       '73.5', '14.4542', '56.4958', '7.65', '7.8958', '8.05', '29',\n",
       "       '12.475', '9', '9.5', '7.7875', '47.1', '10.5', '15.85', '34.375',\n",
       "       '8.05', '263', '8.05', '8.05', '7.8542', '61.175', '20.575', '7.25',\n",
       "       '8.05', '34.6542', '63.3583', '23', '26', '7.8958', '7.8958',\n",
       "       '77.2875', '8.6542', '7.925', '7.8958', '7.65', '7.775', '7.8958',\n",
       "       '24.15', '52', '14.4542', '8.05', '9.825', '14.4583', '7.925',\n",
       "       '7.75', '21', '247.5208', '31.275', '73.5', '8.05', '30.0708', '13',\n",
       "       '77.2875', '11.2417', '7.75', '7.1417', '22.3583', '6.975',\n",
       "       '7.8958', '7.05', '14.5', '26', '13', '15.0458', '26.2833', '53.1',\n",
       "       '9.2167', '79.2', '15.2458', '7.75', '15.85', '6.75', '11.5',\n",
       "       '36.75', '7.7958', '34.375', '26', '13', '12.525', '66.6', '8.05',\n",
       "       '14.5', '7.3125', '61.3792', '7.7333', '8.05', '8.6625', '69.55',\n",
       "       '16.1', '15.75', '7.775', '8.6625', '39.6875', '20.525', '55',\n",
       "       '27.9', '25.925', '56.4958', '33.5', '29.125', '11.1333', '7.925',\n",
       "       '30.6958', '7.8542', '25.4667', '28.7125', '13', '0', '69.55',\n",
       "       '15.05', '31.3875', '39', '22.025', '50', '15.5', '26.55', '15.5',\n",
       "       '7.8958', '13', '13', '7.8542', '26', '27.7208', '146.5208', '7.75',\n",
       "       '8.4042', '7.75', '13', '9.5', '69.55', '6.4958', '7.225', '8.05',\n",
       "       '10.4625', '15.85', '18.7875', '7.75', '31', '7.05', '21', '7.25',\n",
       "       '13', '7.75', '113.275', '7.925', '27', '76.2917', '10.5', '8.05',\n",
       "       '13', '8.05', '7.8958', '90', '9.35', '10.5', '7.25', '13',\n",
       "       '25.4667', '83.475', '7.775', '13.5', '31.3875', '10.5', '7.55',\n",
       "       '26', '26.25', '10.5', '12.275', '14.4542', '15.5', '10.5', '7.125',\n",
       "       '7.225', '90', '7.775', '14.5', '52.5542', '26', '7.25', '10.4625',\n",
       "       '26.55', '16.1', '20.2125', '15.2458', '79.2', '86.5', '512.3292',\n",
       "       '26', '7.75', '31.3875', '79.65', '0', '7.75', '10.5', '39.6875',\n",
       "       '7.775', '153.4625', '135.6333', '31', '0', '19.5', '29.7', '7.75',\n",
       "       '77.9583', '7.75', '0', '29.125', '20.25', '7.75', '7.8542', '9.5',\n",
       "       '8.05', '26', '8.6625', '9.5', '7.8958', '13', '7.75', '78.85',\n",
       "       '91.0792', '12.875', '8.85', '7.8958', '27.7208', '7.2292',\n",
       "       '151.55', '30.5', '247.5208', '7.75', '23.25', '0', '12.35', '8.05',\n",
       "       '151.55', '110.8833', '108.9', '24', '56.9292', '83.1583',\n",
       "       '262.375', '26', '7.8958', '26.25', '7.8542', '26', '14',\n",
       "       '164.8667', '134.5', '7.25', '7.8958', '12.35', '29', '69.55',\n",
       "       '135.6333', '6.2375', '13', '20.525', '57.9792', '23.25', '28.5',\n",
       "       '153.4625', '18', '133.65', '7.8958', '66.6', '134.5', '8.05',\n",
       "       '35.5', '26', '263', '13', '13', '13', '13', '13', '16.1', '15.9',\n",
       "       '8.6625', '9.225', '35', '7.2292', '17.8', '7.225', '9.5', '55',\n",
       "       '13', '7.8792', '7.8792', '27.9', '27.7208', '14.4542', '7.05',\n",
       "       '15.5', '7.25', '75.25', '7.2292', '7.75', '69.3', '55.4417',\n",
       "       '6.4958', '8.05', '135.6333', '21.075', '82.1708', '7.25', '211.5',\n",
       "       '4.0125', '7.775', '227.525', '15.7417', '7.925', '52', '7.8958',\n",
       "       '73.5', '46.9', '13', '7.7292', '12', '120', '7.7958', '7.925',\n",
       "       '113.275', '16.7', '7.7958', '7.8542', '26', '10.5', '12.65',\n",
       "       '7.925', '8.05', '9.825', '15.85', '8.6625', '21', '7.75', '18.75',\n",
       "       '7.775', '25.4667', '7.8958', '6.8583', '90', '0', '7.925', '8.05',\n",
       "       '32.5', '13', '13', '24.15', '7.8958', '7.7333', '7.875', '14.4',\n",
       "       '20.2125', '7.25', '26', '26', '7.75', '8.05', '26.55', '16.1',\n",
       "       '26', '7.125', '55.9', '120', '34.375', '18.75', '263', '10.5',\n",
       "       '26.25', '9.5', '7.775', '13', '8.1125', '81.8583', '19.5', '26.55',\n",
       "       '19.2583', '30.5', '27.75', '19.9667', '27.75', '89.1042', '8.05',\n",
       "       '7.8958', '26.55', '51.8625', '10.5', '7.75', '26.55', '8.05',\n",
       "       '38.5', '13', '8.05', '7.05', '0', '26.55', '7.725', '19.2583',\n",
       "       '7.25', '8.6625', '27.75', '13.7917', '9.8375', '52', '21',\n",
       "       '7.0458', '7.5208', '12.2875', '46.9', '0', '8.05', '9.5875',\n",
       "       '91.0792', '25.4667', '90', '29.7', '8.05', '15.9', '19.9667',\n",
       "       '7.25', '30.5', '49.5042', '8.05', '14.4583', '78.2667', '15.1',\n",
       "       '151.55', '7.7958', '8.6625', '7.75', '7.6292', '9.5875', '86.5',\n",
       "       '108.9', '26', '26.55', '22.525', '56.4958', '7.75', '8.05',\n",
       "       '26.2875', '59.4', '7.4958', '34.0208', '10.5', '24.15', '26',\n",
       "       '7.8958', '93.5', '7.8958', '7.225', '57.9792', '7.2292', '7.75',\n",
       "       '10.5', '221.7792', '7.925', '11.5', '26', '7.2292', '7.2292',\n",
       "       '22.3583', '8.6625', '26.25', '26.55', '106.425', '14.5', '49.5',\n",
       "       '71', '31.275', '31.275', '26', '106.425', '26', '26', '13.8625',\n",
       "       '20.525', '36.75', '110.8833', '26', '7.8292', '7.225', '7.775',\n",
       "       '26.55', '39.6', '227.525', '79.65', '17.4', '7.75', '7.8958',\n",
       "       '13.5', '8.05', '8.05', '24.15', '7.8958', '21.075', '7.2292',\n",
       "       '7.8542', '10.5', '51.4792', '26.3875', '7.75', '8.05', '14.5',\n",
       "       '13', '55.9', '14.4583', '7.925', '30', '110.8833', '26', '40.125',\n",
       "       '8.7125', '79.65', '15', '79.2', '8.05', '8.05', '7.125', '78.2667',\n",
       "       '7.25', '7.75', '26', '24.15', '33', '0', '7.225', '56.9292', '27',\n",
       "       '7.8958', '42.4', '8.05', '26.55', '15.55', '7.8958', '30.5',\n",
       "       '41.5792', '153.4625', '31.275', '7.05', '15.5', '7.75', '8.05',\n",
       "       '65', '14.4', '16.1', '39', '10.5', '14.4542', '52.5542', '15.7417',\n",
       "       '7.8542', '16.1', '32.3208', '12.35', '77.9583', '7.8958', '7.7333',\n",
       "       '30', '7.0542', '30.5', '0', '27.9', '13', '7.925', '26.25',\n",
       "       '39.6875', '16.1', '7.8542', '69.3', '27.9', '56.4958', '19.2583',\n",
       "       '76.7292', '7.8958', '35.5', '7.55', '7.55', '7.8958', '23',\n",
       "       '8.4333', '7.8292', '6.75', '73.5', '7.8958', '15.5', '13',\n",
       "       '113.275', '133.65', '7.225', '25.5875', '7.4958', '7.925', '73.5',\n",
       "       '13', '7.775', '8.05', '52', '39', '52', '10.5', '13', '0', '7.775',\n",
       "       '8.05', '9.8417', '46.9', '512.3292', '8.1375', '76.7292', '9.225',\n",
       "       '46.9', '39', '41.5792', '39.6875', '10.1708', '7.7958', '211.3375',\n",
       "       '57', '13.4167', '56.4958', '7.225', '26.55', '13.5', '8.05',\n",
       "       '7.7333', '110.8833', '7.65', '227.525', '26.2875', '14.4542',\n",
       "       '7.7417', '7.8542', '26', '13.5', '26.2875', '151.55', '15.2458',\n",
       "       '49.5042', '26.55', '52', '9.4833', '13', '7.65', '227.525', '10.5',\n",
       "       '15.5', '7.775', '33', '7.0542', '13', '13', '53.1', '8.6625', '21',\n",
       "       '7.7375', '26', '7.925', '211.3375', '18.7875', '0', '13', '13',\n",
       "       '16.1', '34.375', '512.3292', '7.8958', '7.8958', '30', '78.85',\n",
       "       '262.375', '16.1', '7.925', '71', '20.25', '13', '53.1', '7.75',\n",
       "       '23', '12.475', '9.5', '7.8958', '65', '14.5', '7.7958', '11.5',\n",
       "       '8.05', '86.5', '14.5', '7.125', '7.2292', '120', '7.775',\n",
       "       '77.9583', '39.6', '7.75', '24.15', '8.3625', '9.5', '7.8542',\n",
       "       '10.5', '7.225', '23', '7.75', '7.75', '12.475', '7.7375',\n",
       "       '211.3375', '7.2292', '57', '30', '23.45', '7.05', '7.25', '7.4958',\n",
       "       '29.125', '20.575', '79.2', '7.75', '26', '69.55', '30.6958',\n",
       "       '7.8958', '13', '25.9292', '8.6833', '7.2292', '24.15', '13',\n",
       "       '26.25', '120', '8.5167', '6.975', '7.775', '0', '7.775', '13',\n",
       "       '53.1', '7.8875', '24.15', '10.5', '31.275', '8.05', '0', '7.925',\n",
       "       '37.0042', '6.45', '27.9', '93.5', '8.6625', '0', '12.475',\n",
       "       '39.6875', '6.95', '56.4958', '37.0042', '7.75', '80', '14.4542',\n",
       "       '18.75', '7.2292', '7.8542', '8.3', '83.1583', '8.6625', '8.05',\n",
       "       '56.4958', '29.7', '7.925', '10.5', '31', '6.4375', '8.6625',\n",
       "       '7.55', '69.55', '7.8958', '33', '89.1042', '31.275', '7.775',\n",
       "       '15.2458', '39.4', '26', '9.35', '164.8667', '26.55', '19.2583',\n",
       "       '7.2292', '14.1083', '11.5', '25.9292', '69.55', '13', '13',\n",
       "       '13.8583', '50.4958', '9.5', '11.1333', '7.8958', '52.5542', '5',\n",
       "       '9', '24', '7.225', '9.8458', '7.8958', '7.8958', '83.1583', '26',\n",
       "       '7.8958', '10.5167', '10.5', '7.05', '29.125', '13', '30', '23.45',\n",
       "       '30', '7.75'], \n",
       "      dtype='|S82')"
      ]
     },
     "execution_count": 61,
     "metadata": {},
     "output_type": "execute_result"
    }
   ],
   "source": [
    "data[:,9]"
   ]
  },
  {
   "cell_type": "code",
   "execution_count": 59,
   "metadata": {
    "collapsed": false
   },
   "outputs": [
    {
     "data": {
      "text/plain": [
       "array(['7.25', '71.2833', '7.925', '53.1', '8.05', '8.4583', '51.8625',\n",
       "       '21.075', '11.1333', '30.0708', '16.7', '26.55', '8.05', '31.275',\n",
       "       '7.8542', '16', '29.125', '13', '18', '7.225', '26', '13', '8.0292',\n",
       "       '35.5', '21.075', '31.3875', '7.225', '263', '7.8792', '7.8958',\n",
       "       '27.7208', '146.5208', '7.75', '10.5', '82.1708', '52', '7.2292',\n",
       "       '8.05', '18', '11.2417', '9.475', '21', '7.8958', '41.5792',\n",
       "       '7.8792', '8.05', '15.5', '7.75', '21.6792', '17.8', '39.6875',\n",
       "       '7.8', '76.7292', '26', '61.9792', '35.5', '10.5', '7.2292',\n",
       "       '27.75', '46.9', '7.2292', '80', '83.475', '27.9', '27.7208',\n",
       "       '15.2458', '10.5', '8.1583', '7.925', '8.6625', '10.5', '46.9',\n",
       "       '73.5', '14.4542', '56.4958', '7.65', '7.8958', '8.05', '29',\n",
       "       '12.475', '9', '9.5', '7.7875', '47.1', '10.5', '15.85', '34.375',\n",
       "       '8.05', '263', '8.05', '8.05', '7.8542', '61.175', '20.575', '7.25',\n",
       "       '8.05', '34.6542', '63.3583', '23', '26', '7.8958', '7.8958',\n",
       "       '77.2875', '8.6542', '7.925', '7.8958', '7.65', '7.775', '7.8958',\n",
       "       '24.15', '52', '14.4542', '8.05', '9.825', '14.4583', '7.925',\n",
       "       '7.75', '21', '247.5208', '31.275', '73.5', '8.05', '30.0708', '13',\n",
       "       '77.2875', '11.2417', '7.75', '7.1417', '22.3583', '6.975',\n",
       "       '7.8958', '7.05', '14.5', '26', '13', '15.0458', '26.2833', '53.1',\n",
       "       '9.2167', '79.2', '15.2458', '7.75', '15.85', '6.75', '11.5',\n",
       "       '36.75', '7.7958', '34.375', '26', '13', '12.525', '66.6', '8.05',\n",
       "       '14.5', '7.3125', '61.3792', '7.7333', '8.05', '8.6625', '69.55',\n",
       "       '16.1', '15.75', '7.775', '8.6625', '39.6875', '20.525', '55',\n",
       "       '27.9', '25.925', '56.4958', '33.5', '29.125', '11.1333', '7.925',\n",
       "       '30.6958', '7.8542', '25.4667', '28.7125', '13', '0', '69.55',\n",
       "       '15.05', '31.3875', '39', '22.025', '50', '15.5', '26.55', '15.5',\n",
       "       '7.8958', '13', '13', '7.8542', '26', '27.7208', '146.5208', '7.75',\n",
       "       '8.4042', '7.75', '13', '9.5', '69.55', '6.4958', '7.225', '8.05',\n",
       "       '10.4625', '15.85', '18.7875', '7.75', '31', '7.05', '21', '7.25',\n",
       "       '13', '7.75', '113.275', '7.925', '27', '76.2917', '10.5', '8.05',\n",
       "       '13', '8.05', '7.8958', '90', '9.35', '10.5', '7.25', '13',\n",
       "       '25.4667', '83.475', '7.775', '13.5', '31.3875', '10.5', '7.55',\n",
       "       '26', '26.25', '10.5', '12.275', '14.4542', '15.5', '10.5', '7.125',\n",
       "       '7.225', '90', '7.775', '14.5', '52.5542', '26', '7.25', '10.4625',\n",
       "       '26.55', '16.1', '20.2125', '15.2458', '79.2', '86.5', '512.3292',\n",
       "       '26', '7.75', '31.3875', '79.65', '0', '7.75', '10.5', '39.6875',\n",
       "       '7.775', '153.4625', '135.6333', '31', '0', '19.5', '29.7', '7.75',\n",
       "       '77.9583', '7.75', '0', '29.125', '20.25', '7.75', '7.8542', '9.5',\n",
       "       '8.05', '26', '8.6625', '9.5', '7.8958', '13', '7.75', '78.85',\n",
       "       '91.0792', '12.875', '8.85', '7.8958', '27.7208', '7.2292',\n",
       "       '151.55', '30.5', '247.5208', '7.75', '23.25', '0', '12.35', '8.05',\n",
       "       '151.55', '110.8833', '108.9', '24', '56.9292', '83.1583',\n",
       "       '262.375', '26', '7.8958', '26.25', '7.8542', '26', '14',\n",
       "       '164.8667', '134.5', '7.25', '7.8958', '12.35', '29', '69.55',\n",
       "       '135.6333', '6.2375', '13', '20.525', '57.9792', '23.25', '28.5',\n",
       "       '153.4625', '18', '133.65', '7.8958', '66.6', '134.5', '8.05',\n",
       "       '35.5', '26', '263', '13', '13', '13', '13', '13', '16.1', '15.9',\n",
       "       '8.6625', '9.225', '35', '7.2292', '17.8', '7.225', '9.5', '55',\n",
       "       '13', '7.8792', '7.8792', '27.9', '27.7208', '14.4542', '7.05',\n",
       "       '15.5', '7.25', '75.25', '7.2292', '7.75', '69.3', '55.4417',\n",
       "       '6.4958', '8.05', '135.6333', '21.075', '82.1708', '7.25', '211.5',\n",
       "       '4.0125', '7.775', '227.525', '15.7417', '7.925', '52', '7.8958',\n",
       "       '73.5', '46.9', '13', '7.7292', '12', '120', '7.7958', '7.925',\n",
       "       '113.275', '16.7', '7.7958', '7.8542', '26', '10.5', '12.65',\n",
       "       '7.925', '8.05', '9.825', '15.85', '8.6625', '21', '7.75', '18.75',\n",
       "       '7.775', '25.4667', '7.8958', '6.8583', '90', '0', '7.925', '8.05',\n",
       "       '32.5', '13', '13', '24.15', '7.8958', '7.7333', '7.875', '14.4',\n",
       "       '20.2125', '7.25', '26', '26', '7.75', '8.05', '26.55', '16.1',\n",
       "       '26', '7.125', '55.9', '120', '34.375', '18.75', '263', '10.5',\n",
       "       '26.25', '9.5', '7.775', '13', '8.1125', '81.8583', '19.5', '26.55',\n",
       "       '19.2583', '30.5', '27.75', '19.9667', '27.75', '89.1042', '8.05',\n",
       "       '7.8958', '26.55', '51.8625', '10.5', '7.75', '26.55', '8.05',\n",
       "       '38.5', '13', '8.05', '7.05', '0', '26.55', '7.725', '19.2583',\n",
       "       '7.25', '8.6625', '27.75', '13.7917', '9.8375', '52', '21',\n",
       "       '7.0458', '7.5208', '12.2875', '46.9', '0', '8.05', '9.5875',\n",
       "       '91.0792', '25.4667', '90', '29.7', '8.05', '15.9', '19.9667',\n",
       "       '7.25', '30.5', '49.5042', '8.05', '14.4583', '78.2667', '15.1',\n",
       "       '151.55', '7.7958', '8.6625', '7.75', '7.6292', '9.5875', '86.5',\n",
       "       '108.9', '26', '26.55', '22.525', '56.4958', '7.75', '8.05',\n",
       "       '26.2875', '59.4', '7.4958', '34.0208', '10.5', '24.15', '26',\n",
       "       '7.8958', '93.5', '7.8958', '7.225', '57.9792', '7.2292', '7.75',\n",
       "       '10.5', '221.7792', '7.925', '11.5', '26', '7.2292', '7.2292',\n",
       "       '22.3583', '8.6625', '26.25', '26.55', '106.425', '14.5', '49.5',\n",
       "       '71', '31.275', '31.275', '26', '106.425', '26', '26', '13.8625',\n",
       "       '20.525', '36.75', '110.8833', '26', '7.8292', '7.225', '7.775',\n",
       "       '26.55', '39.6', '227.525', '79.65', '17.4', '7.75', '7.8958',\n",
       "       '13.5', '8.05', '8.05', '24.15', '7.8958', '21.075', '7.2292',\n",
       "       '7.8542', '10.5', '51.4792', '26.3875', '7.75', '8.05', '14.5',\n",
       "       '13', '55.9', '14.4583', '7.925', '30', '110.8833', '26', '40.125',\n",
       "       '8.7125', '79.65', '15', '79.2', '8.05', '8.05', '7.125', '78.2667',\n",
       "       '7.25', '7.75', '26', '24.15', '33', '0', '7.225', '56.9292', '27',\n",
       "       '7.8958', '42.4', '8.05', '26.55', '15.55', '7.8958', '30.5',\n",
       "       '41.5792', '153.4625', '31.275', '7.05', '15.5', '7.75', '8.05',\n",
       "       '65', '14.4', '16.1', '39', '10.5', '14.4542', '52.5542', '15.7417',\n",
       "       '7.8542', '16.1', '32.3208', '12.35', '77.9583', '7.8958', '7.7333',\n",
       "       '30', '7.0542', '30.5', '0', '27.9', '13', '7.925', '26.25',\n",
       "       '39.6875', '16.1', '7.8542', '69.3', '27.9', '56.4958', '19.2583',\n",
       "       '76.7292', '7.8958', '35.5', '7.55', '7.55', '7.8958', '23',\n",
       "       '8.4333', '7.8292', '6.75', '73.5', '7.8958', '15.5', '13',\n",
       "       '113.275', '133.65', '7.225', '25.5875', '7.4958', '7.925', '73.5',\n",
       "       '13', '7.775', '8.05', '52', '39', '52', '10.5', '13', '0', '7.775',\n",
       "       '8.05', '9.8417', '46.9', '512.3292', '8.1375', '76.7292', '9.225',\n",
       "       '46.9', '39', '41.5792', '39.6875', '10.1708', '7.7958', '211.3375',\n",
       "       '57', '13.4167', '56.4958', '7.225', '26.55', '13.5', '8.05',\n",
       "       '7.7333', '110.8833', '7.65', '227.525', '26.2875', '14.4542',\n",
       "       '7.7417', '7.8542', '26', '13.5', '26.2875', '151.55', '15.2458',\n",
       "       '49.5042', '26.55', '52', '9.4833', '13', '7.65', '227.525', '10.5',\n",
       "       '15.5', '7.775', '33', '7.0542', '13', '13', '53.1', '8.6625', '21',\n",
       "       '7.7375', '26', '7.925', '211.3375', '18.7875', '0', '13', '13',\n",
       "       '16.1', '34.375', '512.3292', '7.8958', '7.8958', '30', '78.85',\n",
       "       '262.375', '16.1', '7.925', '71', '20.25', '13', '53.1', '7.75',\n",
       "       '23', '12.475', '9.5', '7.8958', '65', '14.5', '7.7958', '11.5',\n",
       "       '8.05', '86.5', '14.5', '7.125', '7.2292', '120', '7.775',\n",
       "       '77.9583', '39.6', '7.75', '24.15', '8.3625', '9.5', '7.8542',\n",
       "       '10.5', '7.225', '23', '7.75', '7.75', '12.475', '7.7375',\n",
       "       '211.3375', '7.2292', '57', '30', '23.45', '7.05', '7.25', '7.4958',\n",
       "       '29.125', '20.575', '79.2', '7.75', '26', '69.55', '30.6958',\n",
       "       '7.8958', '13', '25.9292', '8.6833', '7.2292', '24.15', '13',\n",
       "       '26.25', '120', '8.5167', '6.975', '7.775', '0', '7.775', '13',\n",
       "       '53.1', '7.8875', '24.15', '10.5', '31.275', '8.05', '0', '7.925',\n",
       "       '37.0042', '6.45', '27.9', '93.5', '8.6625', '0', '12.475',\n",
       "       '39.6875', '6.95', '56.4958', '37.0042', '7.75', '80', '14.4542',\n",
       "       '18.75', '7.2292', '7.8542', '8.3', '83.1583', '8.6625', '8.05',\n",
       "       '56.4958', '29.7', '7.925', '10.5', '31', '6.4375', '8.6625',\n",
       "       '7.55', '69.55', '7.8958', '33', '89.1042', '31.275', '7.775',\n",
       "       '15.2458', '39.4', '26', '9.35', '164.8667', '26.55', '19.2583',\n",
       "       '7.2292', '14.1083', '11.5', '25.9292', '69.55', '13', '13',\n",
       "       '13.8583', '50.4958', '9.5', '11.1333', '7.8958', '52.5542', '5',\n",
       "       '9', '24', '7.225', '9.8458', '7.8958', '7.8958', '83.1583', '26',\n",
       "       '7.8958', '10.5167', '10.5', '7.05', '29.125', '13', '30', '23.45',\n",
       "       '30', '7.75'], \n",
       "      dtype='|S82')"
      ]
     },
     "execution_count": 59,
     "metadata": {},
     "output_type": "execute_result"
    }
   ],
   "source": [
    "data[0:,9]"
   ]
  },
  {
   "cell_type": "code",
   "execution_count": null,
   "metadata": {
    "collapsed": true
   },
   "outputs": [],
   "source": []
  }
 ],
 "metadata": {
  "kernelspec": {
   "display_name": "Python 2",
   "language": "python",
   "name": "python2"
  },
  "language_info": {
   "codemirror_mode": {
    "name": "ipython",
    "version": 2
   },
   "file_extension": ".py",
   "mimetype": "text/x-python",
   "name": "python",
   "nbconvert_exporter": "python",
   "pygments_lexer": "ipython2",
   "version": "2.7.9"
  }
 },
 "nbformat": 4,
 "nbformat_minor": 0
}
